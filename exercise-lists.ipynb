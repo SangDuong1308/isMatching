{
 "cells": [
  {
   "cell_type": "markdown",
   "id": "85e006b6",
   "metadata": {
    "papermill": {
     "duration": 0.017822,
     "end_time": "2022-04-30T10:39:41.718431",
     "exception": false,
     "start_time": "2022-04-30T10:39:41.700609",
     "status": "completed"
    },
    "tags": []
   },
   "source": [
    "**This notebook is an exercise in the [Python](https://www.kaggle.com/learn/python) course.  You can reference the tutorial at [this link](https://www.kaggle.com/colinmorris/lists).**\n",
    "\n",
    "---\n"
   ]
  },
  {
   "cell_type": "markdown",
   "id": "dbc10738",
   "metadata": {
    "papermill": {
     "duration": 0.018153,
     "end_time": "2022-04-30T10:39:41.753717",
     "exception": false,
     "start_time": "2022-04-30T10:39:41.735564",
     "status": "completed"
    },
    "tags": []
   },
   "source": [
    "Things get more interesting with lists. You'll apply your new knowledge to solve the questions below. Remember to run the following cell first."
   ]
  },
  {
   "cell_type": "code",
   "execution_count": 1,
   "id": "eb18fe3e",
   "metadata": {
    "execution": {
     "iopub.execute_input": "2022-04-30T10:39:41.793132Z",
     "iopub.status.busy": "2022-04-30T10:39:41.792347Z",
     "iopub.status.idle": "2022-04-30T10:39:41.843853Z",
     "shell.execute_reply": "2022-04-30T10:39:41.842597Z"
    },
    "papermill": {
     "duration": 0.075935,
     "end_time": "2022-04-30T10:39:41.846608",
     "exception": false,
     "start_time": "2022-04-30T10:39:41.770673",
     "status": "completed"
    },
    "tags": []
   },
   "outputs": [
    {
     "name": "stdout",
     "output_type": "stream",
     "text": [
      "Setup complete.\n"
     ]
    }
   ],
   "source": [
    "from learntools.core import binder; binder.bind(globals())\n",
    "from learntools.python.ex4 import *\n",
    "print('Setup complete.')"
   ]
  },
  {
   "cell_type": "markdown",
   "id": "38b0d1a8",
   "metadata": {
    "papermill": {
     "duration": 0.024946,
     "end_time": "2022-04-30T10:39:41.891441",
     "exception": false,
     "start_time": "2022-04-30T10:39:41.866495",
     "status": "completed"
    },
    "tags": []
   },
   "source": [
    "# 1.\n",
    "\n",
    "Complete the function below according to its docstring."
   ]
  },
  {
   "cell_type": "code",
   "execution_count": 2,
   "id": "0f06f761",
   "metadata": {
    "execution": {
     "iopub.execute_input": "2022-04-30T10:39:41.929553Z",
     "iopub.status.busy": "2022-04-30T10:39:41.929023Z",
     "iopub.status.idle": "2022-04-30T10:39:41.939211Z",
     "shell.execute_reply": "2022-04-30T10:39:41.938572Z"
    },
    "papermill": {
     "duration": 0.03136,
     "end_time": "2022-04-30T10:39:41.941024",
     "exception": false,
     "start_time": "2022-04-30T10:39:41.909664",
     "status": "completed"
    },
    "tags": []
   },
   "outputs": [
    {
     "data": {
      "application/javascript": [
       "parent.postMessage({\"jupyterEvent\": \"custom.exercise_interaction\", \"data\": {\"outcomeType\": 1, \"valueTowardsCompletion\": 0.2, \"interactionType\": 1, \"questionType\": 2, \"questionId\": \"1_SelectSecondItem\", \"learnToolsVersion\": \"0.3.4\", \"failureMessage\": \"\", \"exceptionClass\": \"\", \"trace\": \"\"}}, \"*\")"
      ],
      "text/plain": [
       "<IPython.core.display.Javascript object>"
      ]
     },
     "metadata": {},
     "output_type": "display_data"
    },
    {
     "data": {
      "text/markdown": [
       "<span style=\"color:#33cc33\">Correct</span>"
      ],
      "text/plain": [
       "Correct"
      ]
     },
     "metadata": {},
     "output_type": "display_data"
    }
   ],
   "source": [
    "def select_second(L):\n",
    "    \"\"\"Return the second element of the given list. If the list has no second\n",
    "    element, return None.\n",
    "    \"\"\"\n",
    "    if len(L)<2: \n",
    "        return None\n",
    "    return L[1]\n",
    "    #pass\n",
    "\n",
    "# Check your answer\n",
    "q1.check()"
   ]
  },
  {
   "cell_type": "code",
   "execution_count": 3,
   "id": "7c54b016",
   "metadata": {
    "execution": {
     "iopub.execute_input": "2022-04-30T10:39:41.978665Z",
     "iopub.status.busy": "2022-04-30T10:39:41.978089Z",
     "iopub.status.idle": "2022-04-30T10:39:41.988272Z",
     "shell.execute_reply": "2022-04-30T10:39:41.987620Z"
    },
    "papermill": {
     "duration": 0.031294,
     "end_time": "2022-04-30T10:39:41.990111",
     "exception": false,
     "start_time": "2022-04-30T10:39:41.958817",
     "status": "completed"
    },
    "tags": []
   },
   "outputs": [
    {
     "data": {
      "application/javascript": [
       "parent.postMessage({\"jupyterEvent\": \"custom.exercise_interaction\", \"data\": {\"interactionType\": 2, \"questionType\": 2, \"questionId\": \"1_SelectSecondItem\", \"learnToolsVersion\": \"0.3.4\", \"valueTowardsCompletion\": 0.0, \"failureMessage\": \"\", \"exceptionClass\": \"\", \"trace\": \"\", \"outcomeType\": 4}}, \"*\")"
      ],
      "text/plain": [
       "<IPython.core.display.Javascript object>"
      ]
     },
     "metadata": {},
     "output_type": "display_data"
    },
    {
     "data": {
      "text/markdown": [
       "<span style=\"color:#3366cc\">Hint:</span> Python starts counting at 0. So the second item isn't indexed with a 2"
      ],
      "text/plain": [
       "Hint: Python starts counting at 0. So the second item isn't indexed with a 2"
      ]
     },
     "metadata": {},
     "output_type": "display_data"
    },
    {
     "data": {
      "application/javascript": [
       "parent.postMessage({\"jupyterEvent\": \"custom.exercise_interaction\", \"data\": {\"interactionType\": 3, \"questionType\": 2, \"questionId\": \"1_SelectSecondItem\", \"learnToolsVersion\": \"0.3.4\", \"valueTowardsCompletion\": 0.0, \"failureMessage\": \"\", \"exceptionClass\": \"\", \"trace\": \"\", \"outcomeType\": 4}}, \"*\")"
      ],
      "text/plain": [
       "<IPython.core.display.Javascript object>"
      ]
     },
     "metadata": {},
     "output_type": "display_data"
    },
    {
     "data": {
      "text/markdown": [
       "<span style=\"color:#33cc99\">Solution:</span> \n",
       "```python\n",
       "def select_second(L):\n",
       "    if len(L) < 2:\n",
       "        return None\n",
       "    return L[1]\n",
       "```"
      ],
      "text/plain": [
       "Solution: \n",
       "```python\n",
       "def select_second(L):\n",
       "    if len(L) < 2:\n",
       "        return None\n",
       "    return L[1]\n",
       "```"
      ]
     },
     "metadata": {},
     "output_type": "display_data"
    }
   ],
   "source": [
    "q1.hint()\n",
    "q1.solution()"
   ]
  },
  {
   "cell_type": "markdown",
   "id": "03457098",
   "metadata": {
    "papermill": {
     "duration": 0.0214,
     "end_time": "2022-04-30T10:39:42.033179",
     "exception": false,
     "start_time": "2022-04-30T10:39:42.011779",
     "status": "completed"
    },
    "tags": []
   },
   "source": [
    "# 2.\n",
    "\n",
    "You are analyzing sports teams.  Members of each team are stored in a list. The Coach is the first name in the list, the captain is the second name in the list, and other players are listed after that. \n",
    "These lists are stored in another list, which starts with the best team and proceeds through the list to the worst team last.  Complete the function below to select the **captain** of the worst team."
   ]
  },
  {
   "cell_type": "code",
   "execution_count": 4,
   "id": "ef4dd657",
   "metadata": {
    "execution": {
     "iopub.execute_input": "2022-04-30T10:39:42.078205Z",
     "iopub.status.busy": "2022-04-30T10:39:42.077748Z",
     "iopub.status.idle": "2022-04-30T10:39:42.085136Z",
     "shell.execute_reply": "2022-04-30T10:39:42.084380Z"
    },
    "papermill": {
     "duration": 0.033595,
     "end_time": "2022-04-30T10:39:42.088422",
     "exception": false,
     "start_time": "2022-04-30T10:39:42.054827",
     "status": "completed"
    },
    "tags": []
   },
   "outputs": [
    {
     "data": {
      "application/javascript": [
       "parent.postMessage({\"jupyterEvent\": \"custom.exercise_interaction\", \"data\": {\"outcomeType\": 4, \"interactionType\": 1, \"questionType\": 2, \"questionId\": \"2_LosingTeamCaptain\", \"learnToolsVersion\": \"0.3.4\", \"valueTowardsCompletion\": 0.0, \"failureMessage\": \"\", \"exceptionClass\": \"\", \"trace\": \"\"}}, \"*\")"
      ],
      "text/plain": [
       "<IPython.core.display.Javascript object>"
      ]
     },
     "metadata": {},
     "output_type": "display_data"
    },
    {
     "data": {
      "text/markdown": [
       "<span style=\"color:#ccaa33\">Check:</span> When you've updated the starter code, `check()` will tell you whether your code is correct. "
      ],
      "text/plain": [
       "Check: When you've updated the starter code, `check()` will tell you whether your code is correct. "
      ]
     },
     "metadata": {},
     "output_type": "display_data"
    }
   ],
   "source": [
    "def losing_team_captain(teams):\n",
    "    \"\"\"Given a list of teams, where each team is a list of names, return the 2nd player (captain)\n",
    "    from the last listed team\n",
    "    \"\"\"\n",
    "    pass\n",
    "\n",
    "# Check your answer\n",
    "q2.check()"
   ]
  },
  {
   "cell_type": "code",
   "execution_count": 5,
   "id": "9bddadbc",
   "metadata": {
    "collapsed": true,
    "execution": {
     "iopub.execute_input": "2022-04-30T10:39:42.138272Z",
     "iopub.status.busy": "2022-04-30T10:39:42.137661Z",
     "iopub.status.idle": "2022-04-30T10:39:42.141212Z",
     "shell.execute_reply": "2022-04-30T10:39:42.140564Z"
    },
    "jupyter": {
     "outputs_hidden": true
    },
    "papermill": {
     "duration": 0.030095,
     "end_time": "2022-04-30T10:39:42.143114",
     "exception": false,
     "start_time": "2022-04-30T10:39:42.113019",
     "status": "completed"
    },
    "tags": []
   },
   "outputs": [],
   "source": [
    "#q2.hint()\n",
    "#q2.solution()"
   ]
  },
  {
   "cell_type": "markdown",
   "id": "6f9e9a05",
   "metadata": {
    "papermill": {
     "duration": 0.022497,
     "end_time": "2022-04-30T10:39:42.188225",
     "exception": false,
     "start_time": "2022-04-30T10:39:42.165728",
     "status": "completed"
    },
    "tags": []
   },
   "source": [
    "# 3.\n",
    "\n",
    "The next iteration of Mario Kart will feature an extra-infuriating new item, the *Purple Shell*. When used, it warps the last place racer into first place and the first place racer into last place. Complete the function below to implement the Purple Shell's effect."
   ]
  },
  {
   "cell_type": "code",
   "execution_count": 6,
   "id": "4d63ba8b",
   "metadata": {
    "execution": {
     "iopub.execute_input": "2022-04-30T10:39:42.236253Z",
     "iopub.status.busy": "2022-04-30T10:39:42.235595Z",
     "iopub.status.idle": "2022-04-30T10:39:42.243710Z",
     "shell.execute_reply": "2022-04-30T10:39:42.242805Z"
    },
    "papermill": {
     "duration": 0.035056,
     "end_time": "2022-04-30T10:39:42.246078",
     "exception": false,
     "start_time": "2022-04-30T10:39:42.211022",
     "status": "completed"
    },
    "tags": []
   },
   "outputs": [
    {
     "data": {
      "application/javascript": [
       "parent.postMessage({\"jupyterEvent\": \"custom.exercise_interaction\", \"data\": {\"outcomeType\": 4, \"interactionType\": 1, \"questionType\": 2, \"questionId\": \"3_PurpleShell\", \"learnToolsVersion\": \"0.3.4\", \"valueTowardsCompletion\": 0.0, \"failureMessage\": \"\", \"exceptionClass\": \"\", \"trace\": \"\"}}, \"*\")"
      ],
      "text/plain": [
       "<IPython.core.display.Javascript object>"
      ]
     },
     "metadata": {},
     "output_type": "display_data"
    },
    {
     "data": {
      "text/markdown": [
       "<span style=\"color:#ccaa33\">Check:</span> When you've updated the starter code, `check()` will tell you whether your code is correct. "
      ],
      "text/plain": [
       "Check: When you've updated the starter code, `check()` will tell you whether your code is correct. "
      ]
     },
     "metadata": {},
     "output_type": "display_data"
    }
   ],
   "source": [
    "def purple_shell(racers):\n",
    "    \"\"\"Given a list of racers, set the first place racer (at the front of the list) to last\n",
    "    place and vice versa.\n",
    "    \n",
    "    >>> r = [\"Mario\", \"Bowser\", \"Luigi\"]\n",
    "    >>> purple_shell(r)\n",
    "    >>> r\n",
    "    [\"Luigi\", \"Bowser\", \"Mario\"]\n",
    "    \"\"\"\n",
    "    pass\n",
    "\n",
    "# Check your answer\n",
    "q3.check()"
   ]
  },
  {
   "cell_type": "code",
   "execution_count": 7,
   "id": "3f232374",
   "metadata": {
    "collapsed": true,
    "execution": {
     "iopub.execute_input": "2022-04-30T10:39:42.296594Z",
     "iopub.status.busy": "2022-04-30T10:39:42.295619Z",
     "iopub.status.idle": "2022-04-30T10:39:42.300120Z",
     "shell.execute_reply": "2022-04-30T10:39:42.299264Z"
    },
    "jupyter": {
     "outputs_hidden": true
    },
    "papermill": {
     "duration": 0.03108,
     "end_time": "2022-04-30T10:39:42.302148",
     "exception": false,
     "start_time": "2022-04-30T10:39:42.271068",
     "status": "completed"
    },
    "tags": []
   },
   "outputs": [],
   "source": [
    "#q3.hint()\n",
    "#q3.solution()"
   ]
  },
  {
   "cell_type": "markdown",
   "id": "10cfc954",
   "metadata": {
    "papermill": {
     "duration": 0.023573,
     "end_time": "2022-04-30T10:39:42.349227",
     "exception": false,
     "start_time": "2022-04-30T10:39:42.325654",
     "status": "completed"
    },
    "tags": []
   },
   "source": [
    "# 4.\n",
    "\n",
    "What are the lengths of the following lists? Fill in the variable `lengths` with your predictions. (Try to make a prediction for each list *without* just calling `len()` on it.)"
   ]
  },
  {
   "cell_type": "code",
   "execution_count": 8,
   "id": "a9b0a0b1",
   "metadata": {
    "execution": {
     "iopub.execute_input": "2022-04-30T10:39:42.399074Z",
     "iopub.status.busy": "2022-04-30T10:39:42.398499Z",
     "iopub.status.idle": "2022-04-30T10:39:42.407749Z",
     "shell.execute_reply": "2022-04-30T10:39:42.406917Z"
    },
    "papermill": {
     "duration": 0.036965,
     "end_time": "2022-04-30T10:39:42.409512",
     "exception": false,
     "start_time": "2022-04-30T10:39:42.372547",
     "status": "completed"
    },
    "tags": []
   },
   "outputs": [
    {
     "data": {
      "application/javascript": [
       "parent.postMessage({\"jupyterEvent\": \"custom.exercise_interaction\", \"data\": {\"outcomeType\": 4, \"interactionType\": 1, \"questionType\": 1, \"questionId\": \"4_UnderstandLen\", \"learnToolsVersion\": \"0.3.4\", \"valueTowardsCompletion\": 0.0, \"failureMessage\": \"\", \"exceptionClass\": \"\", \"trace\": \"\"}}, \"*\")"
      ],
      "text/plain": [
       "<IPython.core.display.Javascript object>"
      ]
     },
     "metadata": {},
     "output_type": "display_data"
    },
    {
     "data": {
      "text/markdown": [
       "<span style=\"color:#ccaa33\">Check:</span> When you've updated the starter code, `check()` will tell you whether your code is correct. You need to update the code that creates variable `lengths`"
      ],
      "text/plain": [
       "Check: When you've updated the starter code, `check()` will tell you whether your code is correct. You need to update the code that creates variable `lengths`"
      ]
     },
     "metadata": {},
     "output_type": "display_data"
    }
   ],
   "source": [
    "a = [1, 2, 3]\n",
    "b = [1, [2, 3]]\n",
    "c = []\n",
    "d = [1, 2, 3][1:]\n",
    "\n",
    "# Put your predictions in the list below. Lengths should contain 4 numbers, the\n",
    "# first being the length of a, the second being the length of b and so on.\n",
    "lengths = []\n",
    "\n",
    "# Check your answer\n",
    "q4.check()"
   ]
  },
  {
   "cell_type": "code",
   "execution_count": 9,
   "id": "058989a9",
   "metadata": {
    "collapsed": true,
    "execution": {
     "iopub.execute_input": "2022-04-30T10:39:42.461726Z",
     "iopub.status.busy": "2022-04-30T10:39:42.461175Z",
     "iopub.status.idle": "2022-04-30T10:39:42.465074Z",
     "shell.execute_reply": "2022-04-30T10:39:42.464417Z"
    },
    "jupyter": {
     "outputs_hidden": true
    },
    "papermill": {
     "duration": 0.032307,
     "end_time": "2022-04-30T10:39:42.466977",
     "exception": false,
     "start_time": "2022-04-30T10:39:42.434670",
     "status": "completed"
    },
    "tags": []
   },
   "outputs": [],
   "source": [
    "# line below provides some explanation\n",
    "#q4.solution()"
   ]
  },
  {
   "cell_type": "markdown",
   "id": "7a057b8e",
   "metadata": {
    "papermill": {
     "duration": 0.027295,
     "end_time": "2022-04-30T10:39:42.521673",
     "exception": false,
     "start_time": "2022-04-30T10:39:42.494378",
     "status": "completed"
    },
    "tags": []
   },
   "source": [
    "# 5. <span title=\"A bit spicy\" style=\"color: darkgreen \">🌶️</span>\n",
    "\n",
    "We're using lists to record people who attended our party and what order they arrived in. For example, the following list represents a party with 7 guests, in which Adela showed up first and Ford was the last to arrive:\n",
    "\n",
    "    party_attendees = ['Adela', 'Fleda', 'Owen', 'May', 'Mona', 'Gilbert', 'Ford']\n",
    "\n",
    "A guest is considered 'fashionably late' if they arrived after at least half of the party's guests. However, they must not be the very last guest (that's taking it too far). In the above example, Mona and Gilbert are the only guests who were fashionably late.\n",
    "\n",
    "Complete the function below which takes a list of party attendees as well as a person, and tells us whether that person is fashionably late."
   ]
  },
  {
   "cell_type": "code",
   "execution_count": 10,
   "id": "dce31cd5",
   "metadata": {
    "execution": {
     "iopub.execute_input": "2022-04-30T10:39:42.577690Z",
     "iopub.status.busy": "2022-04-30T10:39:42.577071Z",
     "iopub.status.idle": "2022-04-30T10:39:42.585768Z",
     "shell.execute_reply": "2022-04-30T10:39:42.584936Z"
    },
    "papermill": {
     "duration": 0.038374,
     "end_time": "2022-04-30T10:39:42.587687",
     "exception": false,
     "start_time": "2022-04-30T10:39:42.549313",
     "status": "completed"
    },
    "tags": []
   },
   "outputs": [
    {
     "data": {
      "application/javascript": [
       "parent.postMessage({\"jupyterEvent\": \"custom.exercise_interaction\", \"data\": {\"outcomeType\": 4, \"interactionType\": 1, \"questionType\": 2, \"questionId\": \"5_FashionablyLate\", \"learnToolsVersion\": \"0.3.4\", \"valueTowardsCompletion\": 0.0, \"failureMessage\": \"\", \"exceptionClass\": \"\", \"trace\": \"\"}}, \"*\")"
      ],
      "text/plain": [
       "<IPython.core.display.Javascript object>"
      ]
     },
     "metadata": {},
     "output_type": "display_data"
    },
    {
     "data": {
      "text/markdown": [
       "<span style=\"color:#ccaa33\">Check:</span> When you've updated the starter code, `check()` will tell you whether your code is correct. "
      ],
      "text/plain": [
       "Check: When you've updated the starter code, `check()` will tell you whether your code is correct. "
      ]
     },
     "metadata": {},
     "output_type": "display_data"
    }
   ],
   "source": [
    "def fashionably_late(arrivals, name):\n",
    "    \"\"\"Given an ordered list of arrivals to the party and a name, return whether the guest with that\n",
    "    name was fashionably late.\n",
    "    \"\"\"\n",
    "    pass\n",
    "\n",
    "# Check your answer\n",
    "q5.check()"
   ]
  },
  {
   "cell_type": "code",
   "execution_count": 11,
   "id": "a72c1cc6",
   "metadata": {
    "collapsed": true,
    "execution": {
     "iopub.execute_input": "2022-04-30T10:39:42.645297Z",
     "iopub.status.busy": "2022-04-30T10:39:42.644821Z",
     "iopub.status.idle": "2022-04-30T10:39:42.648736Z",
     "shell.execute_reply": "2022-04-30T10:39:42.647846Z"
    },
    "jupyter": {
     "outputs_hidden": true
    },
    "papermill": {
     "duration": 0.035642,
     "end_time": "2022-04-30T10:39:42.650935",
     "exception": false,
     "start_time": "2022-04-30T10:39:42.615293",
     "status": "completed"
    },
    "tags": []
   },
   "outputs": [],
   "source": [
    "#q5.hint()\n",
    "#q5.solution()"
   ]
  },
  {
   "cell_type": "markdown",
   "id": "b0e3c123",
   "metadata": {
    "papermill": {
     "duration": 0.029676,
     "end_time": "2022-04-30T10:39:42.709726",
     "exception": false,
     "start_time": "2022-04-30T10:39:42.680050",
     "status": "completed"
    },
    "tags": []
   },
   "source": [
    "# Keep Going\n",
    "\n",
    "That's it for lists and tuples! Now you have the baseline knowledge to **[learn about loops](https://www.kaggle.com/colinmorris/loops-and-list-comprehensions)**, which is where lists and tuples get really interesting. "
   ]
  },
  {
   "cell_type": "markdown",
   "id": "fa9f59fc",
   "metadata": {
    "papermill": {
     "duration": 0.028031,
     "end_time": "2022-04-30T10:39:42.766516",
     "exception": false,
     "start_time": "2022-04-30T10:39:42.738485",
     "status": "completed"
    },
    "tags": []
   },
   "source": [
    "---\n",
    "\n",
    "\n",
    "\n",
    "\n",
    "*Have questions or comments? Visit the [course discussion forum](https://www.kaggle.com/learn/python/discussion) to chat with other learners.*"
   ]
  }
 ],
 "metadata": {
  "kernelspec": {
   "display_name": "Python 3",
   "language": "python",
   "name": "python3"
  },
  "language_info": {
   "codemirror_mode": {
    "name": "ipython",
    "version": 3
   },
   "file_extension": ".py",
   "mimetype": "text/x-python",
   "name": "python",
   "nbconvert_exporter": "python",
   "pygments_lexer": "ipython3",
   "version": "3.7.12"
  },
  "papermill": {
   "default_parameters": {},
   "duration": 11.245005,
   "end_time": "2022-04-30T10:39:43.415021",
   "environment_variables": {},
   "exception": null,
   "input_path": "__notebook__.ipynb",
   "output_path": "__notebook__.ipynb",
   "parameters": {},
   "start_time": "2022-04-30T10:39:32.170016",
   "version": "2.3.4"
  }
 },
 "nbformat": 4,
 "nbformat_minor": 5
}
